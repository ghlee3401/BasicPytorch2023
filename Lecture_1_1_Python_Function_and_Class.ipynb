{
  "nbformat": 4,
  "nbformat_minor": 0,
  "metadata": {
    "colab": {
      "provenance": [],
      "toc_visible": true,
      "authorship_tag": "ABX9TyPmSjt4Y2h5Iwnn0DmbO8wc",
      "include_colab_link": true
    },
    "kernelspec": {
      "name": "python3",
      "display_name": "Python 3"
    },
    "language_info": {
      "name": "python"
    }
  },
  "cells": [
    {
      "cell_type": "markdown",
      "metadata": {
        "id": "view-in-github",
        "colab_type": "text"
      },
      "source": [
        "<a href=\"https://colab.research.google.com/github/ghlee3401/BasicPytorch2023/blob/main/Lecture_1_1_Python_Function_and_Class.ipynb\" target=\"_parent\"><img src=\"https://colab.research.google.com/assets/colab-badge.svg\" alt=\"Open In Colab\"/></a>"
      ]
    },
    {
      "cell_type": "markdown",
      "source": [
        "# 1. 함수와 클래스\n",
        "- 딥러닝을 위한 파이토치 입문 2.5 함수와 모듈 \n",
        "- 참고 자료 : 점프 투 파이썬 5장 (https://wikidocs.net/27)\n",
        "- 함수와 클래스는 노트북으로 설명 합니다. \n",
        "- 모듈은 노트북에서 설명하기 어렵기 때문에 .py 파일을 이용하여 따로 제공합니다. "
      ],
      "metadata": {
        "id": "fJpe1dIjHs_y"
      }
    },
    {
      "cell_type": "markdown",
      "source": [
        "## 1.1 개요"
      ],
      "metadata": {
        "id": "aiudCRTHJOb-"
      }
    },
    {
      "cell_type": "code",
      "execution_count": 1,
      "metadata": {
        "id": "EX8USND4HdjI"
      },
      "outputs": [],
      "source": [
        "import numpy as np  # numpy 패키지를 np 라는 이름으로 불러옵니다. "
      ]
    },
    {
      "cell_type": "code",
      "source": [
        "# sincos 라는 함수를 만들어줍니다. \n",
        "def sincos(x): # x는 입력값을 의미하고 하나를 입력으로 받는 함수입니다.\n",
        "  return np.sin(x) + np.cos(x) # return은 값을 반환하는 명령어입니다. "
      ],
      "metadata": {
        "id": "t0LAu7yvIkHz"
      },
      "execution_count": 2,
      "outputs": []
    },
    {
      "cell_type": "code",
      "source": [
        "sincos(3) # sincos 함수에 3을 입력으로 넣으면 다음과 같이 결과가 나옵니다. "
      ],
      "metadata": {
        "colab": {
          "base_uri": "https://localhost:8080/"
        },
        "id": "X6aGhEv9I2f_",
        "outputId": "ae1c5dc1-af0c-4e6c-9ca1-8e33e54bdae7"
      },
      "execution_count": 3,
      "outputs": [
        {
          "output_type": "execute_result",
          "data": {
            "text/plain": [
              "-0.8488724885405782"
            ]
          },
          "metadata": {},
          "execution_count": 3
        }
      ]
    },
    {
      "cell_type": "markdown",
      "source": [
        "## 1.2 함수와 클래스 (계산기 만들기 \n",
        "- 쉬운 예제를 위하여 계산기에 필요한 기능들을 함수로 만들어보는 연습을 합니다.\n",
        "- 덧셈 add, 뺄셈 substract, 나누기 divide, 곱하기 multiply 함수를 만듭니다. "
      ],
      "metadata": {
        "id": "2cM29wBwI_GW"
      }
    },
    {
      "cell_type": "code",
      "source": [
        "def add(x, y):\n",
        "  result = x + y \n",
        "  return result"
      ],
      "metadata": {
        "id": "-hkmWFceI4bG"
      },
      "execution_count": 4,
      "outputs": []
    },
    {
      "cell_type": "code",
      "source": [
        "def sub(x, y):\n",
        "  result = x - y\n",
        "  return result"
      ],
      "metadata": {
        "id": "JDw81CttJfAB"
      },
      "execution_count": 5,
      "outputs": []
    },
    {
      "cell_type": "code",
      "source": [
        "def div(x, y):\n",
        "  if y == 0:\n",
        "    raise ZeroDivisionError(\"The value of 'y' is zero\")\n",
        "  else:\n",
        "    result = x/y\n",
        "  return result"
      ],
      "metadata": {
        "id": "Pcyq4PwAJ70Z"
      },
      "execution_count": 6,
      "outputs": []
    },
    {
      "cell_type": "code",
      "source": [
        "def mul(x, y):\n",
        "  result = x * y\n",
        "  return result"
      ],
      "metadata": {
        "id": "NM3UiY8jKUfp"
      },
      "execution_count": 7,
      "outputs": []
    },
    {
      "cell_type": "markdown",
      "source": [
        "- 계산기 클래스를 만들어봅니다."
      ],
      "metadata": {
        "id": "kSBJ7wXIKvU6"
      }
    },
    {
      "cell_type": "code",
      "source": [
        "class Calculator: # 일반적으로 클래스 이름의 첫 글자는 대문자로 만듭니다.\n",
        "  \"\"\"계산기 클래스입니다.\n",
        "  \"\"\"\n",
        "  def __init__(self, user_name): # 클래스의 객체(인스턴스)를 만들면 init 함수가 바로 실행이 됩니다. \n",
        "    self.user_name = user_name  # self로 등록한 값은 class 내의 함수에서 자유롭게 사용 가능합니다. \n",
        "    print(\"이 계산기의 사용자는 {} 님 입니다.\".format(self.user_name))\n",
        "  \n",
        "  def add(self, x, y):  # 클래스 내부의 메소드 임을 명시하기 위해 self를 넣어주어야 합니다. \n",
        "    result = x + y \n",
        "    return result\n",
        "\n",
        "  def sub(self, x, y):\n",
        "    result = x - y\n",
        "    return result\n",
        "  \n",
        "  def div(self, x, y):\n",
        "    if y == 0:\n",
        "      raise ZeroDivisionError(\"The value of 'y' is zero\")\n",
        "    else:\n",
        "      result = x/y\n",
        "    return result\n",
        "\n",
        "  def mul(self, x, y):\n",
        "    result = x * y\n",
        "    return result"
      ],
      "metadata": {
        "id": "EwPa0uUfKWXq"
      },
      "execution_count": 8,
      "outputs": []
    },
    {
      "cell_type": "code",
      "source": [
        "my_calculator = Calculator(\"유미\")"
      ],
      "metadata": {
        "colab": {
          "base_uri": "https://localhost:8080/"
        },
        "id": "VuLAYUpsL6I1",
        "outputId": "9b1dea85-6bcd-4449-9212-5e57d3040e67"
      },
      "execution_count": 9,
      "outputs": [
        {
          "output_type": "stream",
          "name": "stdout",
          "text": [
            "이 계산기의 사용자는 유미 님 입니다.\n"
          ]
        }
      ]
    },
    {
      "cell_type": "code",
      "source": [
        "my_calculator.user_name  # init에 설정한 변수는 외부에서 접근하여 확인할 수 있습니다. "
      ],
      "metadata": {
        "colab": {
          "base_uri": "https://localhost:8080/",
          "height": 35
        },
        "id": "kJEG0bfjNYoJ",
        "outputId": "6e8b530e-5b41-4aa4-9c6e-26fbb1deb0c8"
      },
      "execution_count": 10,
      "outputs": [
        {
          "output_type": "execute_result",
          "data": {
            "text/plain": [
              "'유미'"
            ],
            "application/vnd.google.colaboratory.intrinsic+json": {
              "type": "string"
            }
          },
          "metadata": {},
          "execution_count": 10
        }
      ]
    },
    {
      "cell_type": "code",
      "source": [
        "my_calculator.add(1, 2)"
      ],
      "metadata": {
        "colab": {
          "base_uri": "https://localhost:8080/"
        },
        "id": "KVHJTbsSMJXE",
        "outputId": "af0703e4-822b-45df-ccdd-a09feef3d565"
      },
      "execution_count": 11,
      "outputs": [
        {
          "output_type": "execute_result",
          "data": {
            "text/plain": [
              "3"
            ]
          },
          "metadata": {},
          "execution_count": 11
        }
      ]
    },
    {
      "cell_type": "code",
      "source": [
        "my_calculator.sub(1, 2)"
      ],
      "metadata": {
        "colab": {
          "base_uri": "https://localhost:8080/"
        },
        "id": "hBX6CIdgMNgc",
        "outputId": "049cb146-b311-487e-9d29-b664673bd2f9"
      },
      "execution_count": 12,
      "outputs": [
        {
          "output_type": "execute_result",
          "data": {
            "text/plain": [
              "-1"
            ]
          },
          "metadata": {},
          "execution_count": 12
        }
      ]
    },
    {
      "cell_type": "code",
      "source": [
        "my_calculator.div(1, 2)"
      ],
      "metadata": {
        "colab": {
          "base_uri": "https://localhost:8080/"
        },
        "id": "my5Ec8qaMRQ4",
        "outputId": "ea0e83cb-5fb8-4dcd-97cd-e450c493dc9b"
      },
      "execution_count": 13,
      "outputs": [
        {
          "output_type": "execute_result",
          "data": {
            "text/plain": [
              "0.5"
            ]
          },
          "metadata": {},
          "execution_count": 13
        }
      ]
    },
    {
      "cell_type": "code",
      "source": [
        "my_calculator.mul(1, 2)"
      ],
      "metadata": {
        "colab": {
          "base_uri": "https://localhost:8080/"
        },
        "id": "I-ElgzWhMYoZ",
        "outputId": "6071dfdf-abb2-4965-efb4-52eb79eccc03"
      },
      "execution_count": 14,
      "outputs": [
        {
          "output_type": "execute_result",
          "data": {
            "text/plain": [
              "2"
            ]
          },
          "metadata": {},
          "execution_count": 14
        }
      ]
    },
    {
      "cell_type": "markdown",
      "source": [
        "## 1.3 상속 (가계도 만들기)\n",
        "- 클래스의 상속에 대해 알아보기 위하여 Family라는 클래스를 상속받는 예제를 만들어봅니다."
      ],
      "metadata": {
        "id": "W9QFEGGKNQKV"
      }
    },
    {
      "cell_type": "code",
      "source": [
        "class Family:\n",
        "  def __init__(self):\n",
        "    self.lastname = \"노\"\n",
        "    self.family_names = [\"영심\"]\n",
        "    self._set_family_full_names() # 클래스 내부의 함수를 시작하자마자 실행합니다.\n",
        "\n",
        "  def _set_family_full_names(self): # 클래스 내부에서 사용하는 함수는 언더바(_)를 붙여서 내부에서만 사용하는 것으로 약속합니다. \n",
        "    self.family_full_names = list() \n",
        "    for name in self.family_names: \n",
        "      self.family_full_names.append(self.lastname + name)\n",
        "\n",
        "  def get_family_full_names(self):\n",
        "    return self.family_full_names"
      ],
      "metadata": {
        "id": "tXQl9WlaOGIZ"
      },
      "execution_count": 15,
      "outputs": []
    },
    {
      "cell_type": "code",
      "source": [
        "Noh = Family()\n"
      ],
      "metadata": {
        "id": "jMzM4saiOzZy"
      },
      "execution_count": 16,
      "outputs": []
    },
    {
      "cell_type": "code",
      "source": [
        "Noh.get_family_full_names()"
      ],
      "metadata": {
        "colab": {
          "base_uri": "https://localhost:8080/"
        },
        "id": "DUrGYM4sPD1d",
        "outputId": "aa1d29da-c2b7-47a8-a93b-f48c3f3f84dc"
      },
      "execution_count": 17,
      "outputs": [
        {
          "output_type": "execute_result",
          "data": {
            "text/plain": [
              "['노영심']"
            ]
          },
          "metadata": {},
          "execution_count": 17
        }
      ]
    },
    {
      "cell_type": "markdown",
      "source": [
        "- 새로운 클래스를 만들어 Family 클래스를 상속 받습니다. "
      ],
      "metadata": {
        "id": "sK6oGRm0POsV"
      }
    },
    {
      "cell_type": "code",
      "source": [
        "class NewFamily(Family):\n",
        "  def __init__(self):\n",
        "    super().__init__() # super는 바로 위의 클래스를 가르켜서 Family 클래스의 __init__() 함수를 실행시킵니다. "
      ],
      "metadata": {
        "id": "xLS65DEEPGfS"
      },
      "execution_count": 18,
      "outputs": []
    },
    {
      "cell_type": "code",
      "source": [
        "Noh = NewFamily()\n",
        "Noh.get_family_full_names() # Family 클래스와 동일하게 나오는 것을 알 수 있습니다. "
      ],
      "metadata": {
        "colab": {
          "base_uri": "https://localhost:8080/"
        },
        "id": "O1wZVrq7PbiM",
        "outputId": "4e032a5b-98c2-4627-be17-0cb8faf3eff8"
      },
      "execution_count": 19,
      "outputs": [
        {
          "output_type": "execute_result",
          "data": {
            "text/plain": [
              "['노영심']"
            ]
          },
          "metadata": {},
          "execution_count": 19
        }
      ]
    },
    {
      "cell_type": "markdown",
      "source": [
        "- 여기에 새로운 함수를 추가합니다. "
      ],
      "metadata": {
        "id": "JC8MBrenPwYD"
      }
    },
    {
      "cell_type": "code",
      "source": [
        "class NewFamily(Family):\n",
        "  def __init__(self):\n",
        "    super().__init__() # super는 바로 위의 클래스를 가르켜서 Family 클래스의 __init__() 함수를 실행시킵니다. \n",
        "  \n",
        "  def add(self, name): # add 메소드는 family_names에 추가만하고 반환값은 없는 메소드 입니다. \n",
        "    self.family_names.append(name)\n",
        "    self._set_family_full_names()"
      ],
      "metadata": {
        "id": "cGlCgN8kPdpB"
      },
      "execution_count": 20,
      "outputs": []
    },
    {
      "cell_type": "code",
      "source": [
        "Noh = NewFamily()"
      ],
      "metadata": {
        "id": "ExyUjsliQDio"
      },
      "execution_count": 21,
      "outputs": []
    },
    {
      "cell_type": "code",
      "source": [
        "Noh.add(\"유미\")"
      ],
      "metadata": {
        "id": "E8Y6V-JQQaLQ"
      },
      "execution_count": 22,
      "outputs": []
    },
    {
      "cell_type": "code",
      "source": [
        "Noh.get_family_full_names()"
      ],
      "metadata": {
        "colab": {
          "base_uri": "https://localhost:8080/"
        },
        "id": "ib9vD01fQdwn",
        "outputId": "25cdc605-394e-4d2f-b283-5ad3ba006c82"
      },
      "execution_count": 23,
      "outputs": [
        {
          "output_type": "execute_result",
          "data": {
            "text/plain": [
              "['노영심', '노유미']"
            ]
          },
          "metadata": {},
          "execution_count": 23
        }
      ]
    },
    {
      "cell_type": "markdown",
      "source": [
        "- 부모 클래스의 값이나 메소드를 덮어쓰기 할 수 있습니다. "
      ],
      "metadata": {
        "id": "hHLTNgjTR31M"
      }
    },
    {
      "cell_type": "code",
      "source": [
        "class LeeFamily(Family):\n",
        "  def __init__(self):\n",
        "    super().__init__() # super는 바로 위의 클래스를 가르켜서 Family 클래스의 __init__() 함수를 실행시킵니다. \n",
        "    self.lastname = \"이\" # 성씨를 바꿉니다. \n",
        "    self._set_family_full_names()\n",
        "  \n",
        "  def add(self, name): # add 메소드는 family_names에 추가만하고 반환값은 없는 메소드 입니다. \n",
        "    self.family_names.append(name)\n",
        "    self._set_family_full_names()"
      ],
      "metadata": {
        "id": "FskxOKrMR3N4"
      },
      "execution_count": 24,
      "outputs": []
    },
    {
      "cell_type": "code",
      "source": [
        "Lee = LeeFamily()"
      ],
      "metadata": {
        "id": "jus6RvvQSB5m"
      },
      "execution_count": 25,
      "outputs": []
    },
    {
      "cell_type": "code",
      "source": [
        "Lee.get_family_full_names()"
      ],
      "metadata": {
        "colab": {
          "base_uri": "https://localhost:8080/"
        },
        "id": "OZZ_nM8wSGLA",
        "outputId": "26b21bd0-3469-4be8-b25f-2560778dab2a"
      },
      "execution_count": 26,
      "outputs": [
        {
          "output_type": "execute_result",
          "data": {
            "text/plain": [
              "['이영심']"
            ]
          },
          "metadata": {},
          "execution_count": 26
        }
      ]
    }
  ]
}