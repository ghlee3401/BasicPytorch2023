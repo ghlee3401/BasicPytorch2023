{
 "cells": [
  {
   "cell_type": "code",
   "execution_count": 1,
   "metadata": {},
   "outputs": [],
   "source": [
    "import numpy as np\n",
    "import random\n",
    "import torch \n",
    "import torch.nn as nn\n",
    "import matplotlib.pyplot as plt\n",
    "\n",
    "from sklearn.datasets import load_breast_cancer\n",
    "from sklearn.model_selection import train_test_split\n",
    "from tqdm import tqdm"
   ]
  },
  {
   "cell_type": "code",
   "execution_count": 2,
   "metadata": {},
   "outputs": [
    {
     "name": "stdout",
     "output_type": "stream",
     "text": [
      "(569, 30) (569,)\n"
     ]
    }
   ],
   "source": [
    "cancer = load_breast_cancer()\n",
    "print(cancer.data.shape, cancer.target.shape)"
   ]
  },
  {
   "cell_type": "code",
   "execution_count": 3,
   "metadata": {},
   "outputs": [
    {
     "data": {
      "image/png": "[encoded data removed]",
      "text/plain": [
       "<Figure size 432x288 with 1 Axes>"
      ]
     },
     "metadata": {
      "needs_background": "light"
     },
     "output_type": "display_data"
    }
   ],
   "source": [
    "plt.boxplot(cancer.data)\n",
    "plt.xlabel(\"feature\")\n",
    "plt.ylabel(\"value\")\n",
    "plt.show()"
   ]
  },
  {
   "cell_type": "code",
   "execution_count": 4,
   "metadata": {},
   "outputs": [],
   "source": [
    "x = cancer.data\n",
    "y = cancer.target \n",
    "\n",
    "x_train, x_test, y_train, y_test = train_test_split(x, y, stratify=y, test_size=0.2, random_state=42)  # 수정 금지 \n",
    "x_train, x_eval, y_train, y_eval = train_test_split(x_train, y_train, stratify=y_train, test_size=0.125, random_state=999)\n",
    "\n",
    "x_train_torch = torch.FloatTensor(x_train).cuda()\n",
    "y_train_torch = torch.FloatTensor(y_train).cuda()\n",
    "x_eval_torch = torch.FloatTensor(x_eval).cuda()\n",
    "y_eval_torch = torch.FloatTensor(y_eval).cuda()\n",
    "x_test_torch = torch.FloatTensor(x_test).cuda()\n",
    "y_test_torch = torch.FloatTensor(y_test).cuda()"
   ]
  },
  {
   "cell_type": "code",
   "execution_count": 5,
   "metadata": {},
   "outputs": [],
   "source": [
    "class LogisticNeuron2(nn.Module):\n",
    "    def __init__(self, in_dim=30, n_hidden=16, learning_rate=1e-4):\n",
    "        super(LogisticNeuron2, self).__init__()\n",
    "        \n",
    "        self.in_dim = in_dim\n",
    "        self.n_hidden = n_hidden\n",
    "        \n",
    "        self._build()\n",
    "        \n",
    "        self.optim = torch.optim.Adam(self.model.parameters(), lr=learning_rate)\n",
    "        self.bce_loss = nn.BCELoss()\n",
    "        self.mse_loss = nn.MSELoss()\n",
    "    \n",
    "    def _build(self):\n",
    "        dim_i = self.in_dim\n",
    "        dim_d = self.n_hidden\n",
    "        print('LN ver 2')\n",
    "        self.model = nn.Sequential(\n",
    "            nn.BatchNorm1d(dim_i),\n",
    "            nn.Linear(dim_i, dim_d),\n",
    "            nn.BatchNorm1d(dim_d),\n",
    "            nn.LeakyReLU(),\n",
    "            nn.Linear(dim_d, dim_d),\n",
    "            nn.BatchNorm1d(dim_d),\n",
    "            nn.LeakyReLU(),\n",
    "            nn.Linear(dim_d,1),\n",
    "            nn.Sigmoid()\n",
    "        )\n",
    "    \n",
    "    def forward(self, x):\n",
    "        z = self.model(x)\n",
    "        return z\n",
    "    \n",
    "    def train(self, x, y, epochs=1000, batch_size=32):\n",
    "        B = batch_size\n",
    "        n = len(y)\n",
    "        tmp_acc = -1\n",
    "        for i in range(epochs):\n",
    "            for j in range(0, n, B):\n",
    "                if j+B > n:\n",
    "                    m = n-j\n",
    "                else:\n",
    "                    m=B\n",
    "                 \n",
    "                xi = [v.unsqueeze(0) for v in x[j:(j+m)]]\n",
    "                yi = y[j:(j+m)]\n",
    "                \n",
    "                xi = torch.cat(xi, dim=0)\n",
    "                \n",
    "                pred = self.forward(xi)\n",
    "                loss = self.bce_loss(pred, yi)\n",
    "                self.model.zero_grad()\n",
    "                self.optim.zero_grad()\n",
    "                \n",
    "                loss.backward()\n",
    "                self.optim.step()\n",
    "            \n",
    "            if (i + 1) % 100 == 0:\n",
    "                acc = np.mean(self.predict(x_eval_torch) == y_eval)\n",
    "                if tmp_acc == -1: \n",
    "                    tmp_acc = acc \n",
    "                if tmp_acc > acc:\n",
    "                    break\n",
    "                print(\"epoch {} : err = {:.4f}, eval acc = {:%}\".format(i + 1, loss, acc))\n",
    "    \n",
    "    \n",
    "    def predict(self, x, th=0.5):\n",
    "        self.model.eval()\n",
    "        pred= [self.forward(xi.unsqueeze(0)).data.cpu().numpy()[0] for xi in x]\n",
    "        pred = np.array(pred).reshape(-1) > th\n",
    "        self.model.train()\n",
    "        return pred"
   ]
  },
  {
   "cell_type": "code",
   "execution_count": 6,
   "metadata": {},
   "outputs": [
    {
     "name": "stdout",
     "output_type": "stream",
     "text": [
      "LN ver 2\n"
     ]
    },
    {
     "name": "stderr",
     "output_type": "stream",
     "text": [
      "/usr/local/lib/python3.6/dist-packages/torch/nn/modules/loss.py:498: UserWarning: Using a target size (torch.Size([32])) that is different to the input size (torch.Size([32, 1])) is deprecated. Please ensure they have the same size.\n",
      "  return F.binary_cross_entropy(input, target, weight=self.weight, reduction=self.reduction)\n",
      "/usr/local/lib/python3.6/dist-packages/torch/nn/modules/loss.py:498: UserWarning: Using a target size (torch.Size([14])) that is different to the input size (torch.Size([14, 1])) is deprecated. Please ensure they have the same size.\n",
      "  return F.binary_cross_entropy(input, target, weight=self.weight, reduction=self.reduction)\n"
     ]
    },
    {
     "name": "stdout",
     "output_type": "stream",
     "text": [
      "epoch 100 : err = 0.0743, eval acc = 94.736842%\n",
      "epoch 200 : err = 0.0175, eval acc = 96.491228%\n"
     ]
    },
    {
     "data": {
      "text/plain": [
       "99.12280701754386"
      ]
     },
     "execution_count": 6,
     "metadata": {},
     "output_type": "execute_result"
    }
   ],
   "source": [
    "random_seed = 123\n",
    "np.random.seed(random_seed)\n",
    "torch.manual_seed(random_seed)\n",
    "random.seed(random_seed)\n",
    "\n",
    "ln2 = LogisticNeuron2(in_dim=30, n_hidden=32).cuda()\n",
    "ln2.train(x_train_torch, y_train_torch, epochs=200, batch_size=32)\n",
    "\n",
    "np.mean(ln2.predict(x_test_torch, th=0.5) == y_test) * 100"
   ]
  },
  {
   "cell_type": "code",
   "execution_count": 7,
   "metadata": {
    "scrolled": true
   },
   "outputs": [
    {
     "name": "stdout",
     "output_type": "stream",
     "text": [
      "LN ver 2\n",
      "epoch 100 : err = 0.0743, eval acc = 94.736842%\n",
      "epoch 200 : err = 0.0175, eval acc = 96.491228%\n"
     ]
    },
    {
     "data": {
      "text/plain": [
       "99.12280701754386"
      ]
     },
     "execution_count": 7,
     "metadata": {},
     "output_type": "execute_result"
    }
   ],
   "source": [
    "random_seed = 123\n",
    "np.random.seed(random_seed)\n",
    "torch.manual_seed(random_seed)\n",
    "random.seed(random_seed)\n",
    "\n",
    "ln22 = LogisticNeuron2(in_dim=30, n_hidden=32).cuda()\n",
    "ln22.train(x_train_torch, y_train_torch, epochs=200, batch_size=32)\n",
    "\n",
    "np.mean(ln22.predict(x_test_torch, th=0.5) == y_test) * 100"
   ]
  },
  {
   "cell_type": "code",
   "execution_count": 8,
   "metadata": {},
   "outputs": [
    {
     "name": "stdout",
     "output_type": "stream",
     "text": [
      "LN ver 2\n",
      "epoch 100 : err = 0.0743, eval acc = 94.736842%\n",
      "epoch 200 : err = 0.0175, eval acc = 96.491228%\n"
     ]
    },
    {
     "data": {
      "text/plain": [
       "99.12280701754386"
      ]
     },
     "execution_count": 8,
     "metadata": {},
     "output_type": "execute_result"
    }
   ],
   "source": [
    "random_seed = 123\n",
    "np.random.seed(random_seed)\n",
    "torch.manual_seed(random_seed)\n",
    "random.seed(random_seed)\n",
    "\n",
    "ln222 = LogisticNeuron2(in_dim=30, n_hidden=32).cuda()\n",
    "ln222.train(x_train_torch, y_train_torch, epochs=200, batch_size=32)\n",
    "\n",
    "np.mean(ln222.predict(x_test_torch, th=0.5) == y_test) * 100"
   ]
  },
  {
   "cell_type": "code",
   "execution_count": 15,
   "metadata": {},
   "outputs": [],
   "source": [
    "class LogisticNeuronTest2(nn.Module):\n",
    "    def __init__(self, in_dim, n_hidden, learning_rate=1e-4):\n",
    "        \n",
    "        super().__init__()\n",
    "        \n",
    "        self.model = nn.Sequential(\n",
    "            nn.Linear(in_dim, n_hidden),\n",
    "            nn.ReLU(),\n",
    "            nn.Linear(n_hidden, n_hidden//8),\n",
    "            nn.Linear(n_hidden//8, 1),\n",
    "            nn.Sigmoid()\n",
    "        )\n",
    "        \n",
    "        self.optim = torch.optim.Adam(self.model.parameters(), lr=learning_rate)\n",
    "        self.bce_loss = nn.BCELoss()\n",
    "        \n",
    "        self.x_train_min = None\n",
    "        self.x_train_max = None\n",
    "        self.y_train_min = None\n",
    "        self.y_train_max = None\n",
    "        \n",
    "        \n",
    "    def _calculate_loss(self, x, y):\n",
    "        loss = self.bce_loss(x, y)\n",
    "        return loss\n",
    "    \n",
    "\n",
    "    def norm(self, x, x_min=None, x_max=None):\n",
    "        if x_min is None:\n",
    "            x_min = torch.min(x, dim=0, keepdim=True)[0]\n",
    "            x_max = torch.max(x, dim=0, keepdim=True)[0]\n",
    "\n",
    "        x_ = (x - x_min) / (x_max - x_min)\n",
    "        return x_, x_min, x_max\n",
    "    \n",
    "    \n",
    "    def denorm(self, x, x_min=None, x_max=None):\n",
    "        x_ = x * (x_max - x_min) + x_min\n",
    "        return x_\n",
    "    \n",
    "    \n",
    "    def forward(self, x):\n",
    "        z = self.model(x)\n",
    "        return z\n",
    "    \n",
    "    \n",
    "    def train(self, x, y, x_eval, y_eval, epochs=100, batch_size=32):\n",
    "        B = batch_size\n",
    "        n = len(y)\n",
    "        temp_acc = -1\n",
    "        \n",
    "        x_, self.x_train_min, self.x_train_max = self.norm(x)\n",
    "        y_, self.y_trian_min, self.y_train_max = self.norm(y)\n",
    "        \n",
    "        for i in range(epochs):\n",
    "            for j in range(0, n, B):\n",
    "                if (j+B) > n:\n",
    "                    m=n-j\n",
    "                else:\n",
    "                    m=B\n",
    "\n",
    "                xi = [v.unsqueeze(0) for v in x_[j:j+m]]\n",
    "                yi = y_[j:j+m]\n",
    "                \n",
    "                xi = torch.cat(xi, dim=0)\n",
    "\n",
    "                pred = self.forward(xi)\n",
    "                loss = self._calculate_loss(pred, yi)\n",
    "                \n",
    "                self.model.zero_grad()\n",
    "                self.optim.zero_grad()\n",
    "                \n",
    "                loss.backward()\n",
    "                self.optim.step()\n",
    "                \n",
    "            if (i+1) % 10 == 0:\n",
    "                _pred = self.predict(x_eval)\n",
    "                acc = np.mean(_pred == y_eval)\n",
    "                if temp_acc == -1:\n",
    "                    temp_acc = acc\n",
    "                if temp_acc > acc:\n",
    "                    break\n",
    "                print(\"epochs : {} | loss : {:.4f} | acc : {:%} \".format(i+1, loss, acc))\n",
    "    \n",
    "    \n",
    "    def predict(self, x, th=0.5):\n",
    "        x_, _, _ = self.norm(x, self.x_train_min, self.x_train_max)\n",
    "        _pred = self.forward(x_).data.numpy().reshape(-1)\n",
    "        _pred = _pred > th\n",
    "        return _pred\n",
    "    "
   ]
  },
  {
   "cell_type": "code",
   "execution_count": 17,
   "metadata": {},
   "outputs": [
    {
     "name": "stdout",
     "output_type": "stream",
     "text": [
      "epochs : 10 | loss : 0.6590 | acc : 63.157895% \n",
      "epochs : 20 | loss : 0.5369 | acc : 89.473684% \n",
      "epochs : 30 | loss : 0.3615 | acc : 89.473684% \n",
      "epochs : 40 | loss : 0.2329 | acc : 89.473684% \n",
      "epochs : 50 | loss : 0.1637 | acc : 89.473684% \n",
      "epochs : 60 | loss : 0.1258 | acc : 91.228070% \n",
      "epochs : 70 | loss : 0.1029 | acc : 92.982456% \n",
      "epochs : 80 | loss : 0.0874 | acc : 94.736842% \n",
      "epochs : 90 | loss : 0.0761 | acc : 94.736842% \n",
      "epochs : 100 | loss : 0.0674 | acc : 96.491228% \n",
      "epochs : 110 | loss : 0.0604 | acc : 96.491228% \n",
      "epochs : 120 | loss : 0.0548 | acc : 96.491228% \n",
      "epochs : 130 | loss : 0.0501 | acc : 96.491228% \n",
      "epochs : 140 | loss : 0.0463 | acc : 96.491228% \n",
      "epochs : 150 | loss : 0.0430 | acc : 96.491228% \n",
      "epochs : 160 | loss : 0.0402 | acc : 96.491228% \n",
      "epochs : 170 | loss : 0.0377 | acc : 96.491228% \n",
      "epochs : 180 | loss : 0.0356 | acc : 96.491228% \n",
      "epochs : 190 | loss : 0.0336 | acc : 96.491228% \n",
      "epochs : 200 | loss : 0.0320 | acc : 96.491228% \n",
      "epochs : 210 | loss : 0.0304 | acc : 98.245614% \n",
      "epochs : 220 | loss : 0.0291 | acc : 98.245614% \n",
      "epochs : 230 | loss : 0.0278 | acc : 98.245614% \n",
      "epochs : 240 | loss : 0.0266 | acc : 98.245614% \n",
      "epochs : 250 | loss : 0.0256 | acc : 98.245614% \n",
      "epochs : 260 | loss : 0.0246 | acc : 98.245614% \n",
      "epochs : 270 | loss : 0.0236 | acc : 98.245614% \n",
      "epochs : 280 | loss : 0.0226 | acc : 98.245614% \n",
      "epochs : 290 | loss : 0.0217 | acc : 98.245614% \n",
      "epochs : 300 | loss : 0.0209 | acc : 98.245614% \n",
      "epochs : 310 | loss : 0.0202 | acc : 98.245614% \n",
      "epochs : 320 | loss : 0.0194 | acc : 98.245614% \n",
      "epochs : 330 | loss : 0.0187 | acc : 98.245614% \n",
      "epochs : 340 | loss : 0.0181 | acc : 98.245614% \n",
      "epochs : 350 | loss : 0.0174 | acc : 98.245614% \n",
      "epochs : 360 | loss : 0.0168 | acc : 98.245614% \n",
      "epochs : 370 | loss : 0.0162 | acc : 98.245614% \n",
      "epochs : 380 | loss : 0.0156 | acc : 98.245614% \n",
      "epochs : 390 | loss : 0.0151 | acc : 98.245614% \n",
      "epochs : 400 | loss : 0.0145 | acc : 98.245614% \n",
      "epochs : 410 | loss : 0.0141 | acc : 98.245614% \n",
      "epochs : 420 | loss : 0.0136 | acc : 98.245614% \n",
      "epochs : 430 | loss : 0.0132 | acc : 98.245614% \n",
      "epochs : 440 | loss : 0.0127 | acc : 98.245614% \n",
      "epochs : 450 | loss : 0.0123 | acc : 98.245614% \n",
      "epochs : 460 | loss : 0.0119 | acc : 98.245614% \n",
      "epochs : 470 | loss : 0.0115 | acc : 98.245614% \n",
      "epochs : 480 | loss : 0.0112 | acc : 98.245614% \n",
      "epochs : 490 | loss : 0.0108 | acc : 98.245614% \n",
      "epochs : 500 | loss : 0.0105 | acc : 98.245614% \n",
      "epochs : 510 | loss : 0.0102 | acc : 98.245614% \n",
      "epochs : 520 | loss : 0.0099 | acc : 98.245614% \n",
      "epochs : 530 | loss : 0.0096 | acc : 98.245614% \n",
      "epochs : 540 | loss : 0.0093 | acc : 98.245614% \n",
      "epochs : 550 | loss : 0.0090 | acc : 98.245614% \n",
      "epochs : 560 | loss : 0.0087 | acc : 98.245614% \n",
      "epochs : 570 | loss : 0.0084 | acc : 98.245614% \n",
      "epochs : 580 | loss : 0.0081 | acc : 98.245614% \n",
      "epochs : 590 | loss : 0.0078 | acc : 98.245614% \n",
      "epochs : 600 | loss : 0.0075 | acc : 98.245614% \n"
     ]
    },
    {
     "data": {
      "text/plain": [
       "99.12280701754386"
      ]
     },
     "execution_count": 17,
     "metadata": {},
     "output_type": "execute_result"
    }
   ],
   "source": [
    "random_seed=123\n",
    "np.random.seed(random_seed)\n",
    "torch.manual_seed(random_seed)\n",
    "random.seed(random_seed)\n",
    "\n",
    "lnt2 = LogisticNeuronTest2(in_dim=30, n_hidden=140).cuda()\n",
    "lnt2.train(x_train_torch, y_train_torch, x_eval_torch, y_eval, epochs=600, batch_size=32)\n",
    "\n",
    "np.mean(lnt2.predict(x_test_torch) == y_test) * 100"
   ]
  },
  {
   "cell_type": "code",
   "execution_count": null,
   "metadata": {},
   "outputs": [],
   "source": []
  }
 ],
 "metadata": {
  "kernelspec": {
   "display_name": "Python 3",
   "language": "python",
   "name": "python3"
  },
  "language_info": {
   "codemirror_mode": {
    "name": "ipython",
    "version": 3
   },
   "file_extension": ".py",
   "mimetype": "text/x-python",
   "name": "python",
   "nbconvert_exporter": "python",
   "pygments_lexer": "ipython3",
   "version": "3.6.8"
  }
 },
 "nbformat": 4,
 "nbformat_minor": 2
}
