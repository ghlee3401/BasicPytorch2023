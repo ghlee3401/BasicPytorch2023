{
  "cells": [
    {
      "cell_type": "code",
      "source": [
        "import numpy as np "
      ],
      "metadata": {
        "id": "qXNdbxNkQqs2"
      },
      "execution_count": null,
      "outputs": []
    },
    {
      "cell_type": "code",
      "source": [
        "# 랜덤한 값을 만들어보자. \n",
        "np.random.seed(0)\n",
        "np.random.normal(0.0, 0.5)  # 첫번째 : 평균, 두번째 : 표준편차"
      ],
      "metadata": {
        "colab": {
          "base_uri": "https://localhost:8080/"
        },
        "id": "oBXDP7tKTiCG",
        "outputId": "33dafed1-04e4-4e97-edf9-f0a062efceb5"
      },
      "execution_count": null,
      "outputs": [
        {
          "output_type": "execute_result",
          "data": {
            "text/plain": [
              "0.882026172983832"
            ]
          },
          "metadata": {},
          "execution_count": 2
        }
      ]
    },
    {
      "cell_type": "code",
      "source": [
        "npoints = 10\n",
        "points = list() \n",
        "# 직선을 만들어보자. 기울기 0.2, y절편 0.5 \n",
        "for i in range(npoints):\n",
        "  np.random.seed(i)\n",
        "  x = np.random.normal(0.0, 0.5)\n",
        "  y = 0.2 * x + 0.5 \n",
        "  points.append([x, y]) "
      ],
      "metadata": {
        "id": "Hgvij-EvTu-C"
      },
      "execution_count": null,
      "outputs": []
    },
    {
      "cell_type": "code",
      "source": [
        "print(points)"
      ],
      "metadata": {
        "colab": {
          "base_uri": "https://localhost:8080/"
        },
        "id": "CAKLWYlwTvDu",
        "outputId": "ff0c090a-1b93-4ab8-fadf-997e7249f701"
      },
      "execution_count": null,
      "outputs": [
        {
          "output_type": "stream",
          "name": "stdout",
          "text": [
            "[[0.882026172983832, 0.6764052345967664], [0.8121726818316208, 0.6624345363663242], [-0.2083789237027353, 0.45832421525945294], [0.8943142367151593, 0.6788628473430318], [0.025280853571469777, 0.505056170714294], [0.22061374344252072, 0.5441227486885042], [-0.1558918367437583, 0.4688216326512483], [0.845262851900178, 0.6690525703800356], [0.045602358309909885, 0.5091204716619819], [0.0005542773561054866, 0.5001108554712211]]\n"
          ]
        }
      ]
    },
    {
      "cell_type": "code",
      "source": [
        "import matplotlib.pyplot as plt "
      ],
      "metadata": {
        "id": "vR2BVpHHXt0L"
      },
      "execution_count": null,
      "outputs": []
    },
    {
      "cell_type": "code",
      "source": [
        "plt.figure(1)\n",
        "for point in points:\n",
        "  plt.scatter(point[0], point[1], c='b')\n",
        "plt.grid()"
      ],
      "metadata": {
        "colab": {
          "base_uri": "https://localhost:8080/",
          "height": 265
        },
        "id": "w2Z77uzIXt2-",
        "outputId": "40bd8e55-e039-40c8-8f61-e625dd781b64"
      },
      "execution_count": null,
      "outputs": [
        {
          "output_type": "display_data",
          "data": {
            "text/plain": [
              "<Figure size 432x288 with 1 Axes>"
            ],
            "image/png": "[encoded data removed]"
          },
          "metadata": {
            "needs_background": "light"
          }
        }
      ]
    },
    {
      "cell_type": "code",
      "source": [
        "npoints = 100\n",
        "points = list() \n",
        "# 잔차가 있는 데이터를 만들어보자. 기울기 0.2, y절편 0.5 \n",
        "for i in range(npoints):\n",
        "  np.random.seed(i)\n",
        "  x = np.random.normal(0.0, 0.5)\n",
        "  r = np.random.normal(0.0, 0.05)\n",
        "  y = 0.2 * x + 0.5 + r\n",
        "  points.append([x, y]) "
      ],
      "metadata": {
        "id": "NYAsrFDPXt5U"
      },
      "execution_count": null,
      "outputs": []
    },
    {
      "cell_type": "code",
      "source": [
        "plt.figure(1)\n",
        "for point in points:\n",
        "  plt.scatter(point[0], point[1], c='b')\n",
        "plt.grid()"
      ],
      "metadata": {
        "colab": {
          "base_uri": "https://localhost:8080/",
          "height": 265
        },
        "id": "vgp5SzGEahOU",
        "outputId": "1b7be120-778c-4f4b-c1ba-fdb28d0b72d2"
      },
      "execution_count": null,
      "outputs": [
        {
          "output_type": "display_data",
          "data": {
            "text/plain": [
              "<Figure size 432x288 with 1 Axes>"
            ],
            "image/png": "[encoded data removed]"
          },
          "metadata": {
            "needs_background": "light"
          }
        }
      ]
    },
    {
      "cell_type": "code",
      "source": [
        "import torch"
      ],
      "metadata": {
        "id": "Ky8XfniJahRH"
      },
      "execution_count": null,
      "outputs": []
    },
    {
      "cell_type": "code",
      "source": [
        "dataset = torch.FloatTensor(points)"
      ],
      "metadata": {
        "id": "WWB8mehAbj5C"
      },
      "execution_count": null,
      "outputs": []
    },
    {
      "cell_type": "code",
      "source": [
        "print(dataset.size())"
      ],
      "metadata": {
        "colab": {
          "base_uri": "https://localhost:8080/"
        },
        "id": "VWo-QPmYbkDU",
        "outputId": "44a8869b-018b-4f22-a8ca-286d29361413"
      },
      "execution_count": null,
      "outputs": [
        {
          "output_type": "stream",
          "name": "stdout",
          "text": [
            "torch.Size([100, 2])\n"
          ]
        }
      ]
    },
    {
      "cell_type": "code",
      "source": [
        "x = dataset[:, 0]  # :은 all 이란 뜻이고, 0번째 것만 모아서, x만 있다. \n",
        "y = dataset[:, 1]  # y만 있다."
      ],
      "metadata": {
        "id": "qnyi6YLqahUw"
      },
      "execution_count": null,
      "outputs": []
    },
    {
      "cell_type": "code",
      "source": [
        "print(x.size())"
      ],
      "metadata": {
        "colab": {
          "base_uri": "https://localhost:8080/"
        },
        "id": "BZWOBNG-fY3S",
        "outputId": "317a4b96-b293-4eed-f499-85fdb38d7d6f"
      },
      "execution_count": null,
      "outputs": [
        {
          "output_type": "stream",
          "name": "stdout",
          "text": [
            "torch.Size([100])\n"
          ]
        }
      ]
    },
    {
      "cell_type": "code",
      "source": [
        "x = x.unsqueeze(1)\n",
        "print(x.size())"
      ],
      "metadata": {
        "colab": {
          "base_uri": "https://localhost:8080/"
        },
        "id": "urgT1n08fY6N",
        "outputId": "3837c1e6-60f0-427a-bdcc-f9fa5091d785"
      },
      "execution_count": null,
      "outputs": [
        {
          "output_type": "stream",
          "name": "stdout",
          "text": [
            "torch.Size([100, 1])\n"
          ]
        }
      ]
    },
    {
      "cell_type": "code",
      "source": [
        "y = y.unsqueeze(1)"
      ],
      "metadata": {
        "id": "U4EJja9NfY-L"
      },
      "execution_count": null,
      "outputs": []
    },
    {
      "cell_type": "code",
      "source": [
        "# 기울기를 설정해보자. \n",
        "a = torch.randn(1, requires_grad=True)\n",
        "print(a)"
      ],
      "metadata": {
        "colab": {
          "base_uri": "https://localhost:8080/"
        },
        "id": "i4L32TcrahYS",
        "outputId": "6759d570-30e3-4de6-c6ca-9c3c8cd7c5b8"
      },
      "execution_count": null,
      "outputs": [
        {
          "output_type": "stream",
          "name": "stdout",
          "text": [
            "tensor([1.1444], requires_grad=True)\n"
          ]
        }
      ]
    },
    {
      "cell_type": "code",
      "source": [
        "# 편차(bias) 를 설정해보자\n",
        "b = torch.zeros(1, requires_grad=True)\n",
        "print(b)"
      ],
      "metadata": {
        "colab": {
          "base_uri": "https://localhost:8080/"
        },
        "id": "qxtxVIL4ekax",
        "outputId": "557f1aaa-1936-47ea-8bf4-cae6e2397aa9"
      },
      "execution_count": null,
      "outputs": [
        {
          "output_type": "stream",
          "name": "stdout",
          "text": [
            "tensor([0.], requires_grad=True)\n"
          ]
        }
      ]
    },
    {
      "cell_type": "code",
      "source": [
        "# 예측을 해보자\n",
        "y_pred = a * x + b"
      ],
      "metadata": {
        "id": "eVQR-3ZFekdo"
      },
      "execution_count": null,
      "outputs": []
    },
    {
      "cell_type": "code",
      "source": [
        "# 오차를 구해보자\n",
        "error = torch.mean((y - y_pred) ** 2)"
      ],
      "metadata": {
        "id": "2Im2h63Xekgh"
      },
      "execution_count": null,
      "outputs": []
    },
    {
      "cell_type": "code",
      "source": [
        "print(error)"
      ],
      "metadata": {
        "colab": {
          "base_uri": "https://localhost:8080/"
        },
        "id": "CZeDlj4sekj7",
        "outputId": "80121532-224a-4cdb-a80c-b19be19701bd"
      },
      "execution_count": null,
      "outputs": [
        {
          "output_type": "stream",
          "name": "stdout",
          "text": [
            "tensor(0.4574, grad_fn=<MeanBackward0>)\n"
          ]
        }
      ]
    },
    {
      "cell_type": "code",
      "source": [
        "# 기울기와 편차를 업데이트해주자. \n",
        "optimizer = torch.optim.SGD([a, b], lr = 0.01)"
      ],
      "metadata": {
        "id": "un9SHC95Xt8I"
      },
      "execution_count": null,
      "outputs": []
    },
    {
      "cell_type": "code",
      "source": [
        "optimizer.zero_grad()  # gradient 초기화 \n",
        "error.backward(retain_graph=True)  # gradient 계산 \n",
        "optimizer.step()"
      ],
      "metadata": {
        "id": "OD1Yi3VKXt-Z"
      },
      "execution_count": null,
      "outputs": []
    },
    {
      "cell_type": "code",
      "source": [
        "for i in range(10):\n",
        "  y_pred = a * x + b\n",
        "  error = torch.mean((y - y_pred) ** 2)\n",
        "  optimizer.zero_grad()  # gradient 초기화 \n",
        "  error.backward()  # gradient 계산 \n",
        "  optimizer.step()"
      ],
      "metadata": {
        "colab": {
          "base_uri": "https://localhost:8080/"
        },
        "id": "kQYwLKg7TiEN",
        "outputId": "871abcf8-a495-40f6-f578-7383edca713e"
      },
      "execution_count": null,
      "outputs": [
        {
          "output_type": "stream",
          "name": "stdout",
          "text": [
            "tensor([1.1355], requires_grad=True)\n",
            "tensor([1.1310], requires_grad=True)\n",
            "tensor([1.1267], requires_grad=True)\n",
            "tensor([1.1223], requires_grad=True)\n",
            "tensor([1.1179], requires_grad=True)\n",
            "tensor([1.1136], requires_grad=True)\n",
            "tensor([1.1093], requires_grad=True)\n",
            "tensor([1.1050], requires_grad=True)\n",
            "tensor([1.1007], requires_grad=True)\n",
            "tensor([1.0964], requires_grad=True)\n"
          ]
        }
      ]
    },
    {
      "cell_type": "code",
      "source": [
        "y_pred = a * x + b \n",
        "xx = x.squeeze(1).data.numpy() \n",
        "yy = y_pred.squeeze(1).data.numpy()\n",
        "plt.figure(1)\n",
        "for point in points:\n",
        "  plt.scatter(point[0], point[1], c='b')\n",
        "plt.plot(xx, yy, c='r')\n",
        "plt.grid()"
      ],
      "metadata": {
        "colab": {
          "base_uri": "https://localhost:8080/",
          "height": 265
        },
        "id": "K0ennYEIk8mO",
        "outputId": "a9a5a45f-cff3-49cb-b6be-9dea96ac96e2"
      },
      "execution_count": null,
      "outputs": [
        {
          "output_type": "display_data",
          "data": {
            "text/plain": [
              "<Figure size 432x288 with 1 Axes>"
            ],
            "image/png": "[encoded data removed]"
          },
          "metadata": {
            "needs_background": "light"
          }
        }
      ]
    },
    {
      "cell_type": "code",
      "source": [
        "for i in range(100):\n",
        "  y_pred = a * x + b\n",
        "  error = torch.mean((y - y_pred) ** 2)\n",
        "  optimizer.zero_grad()  # gradient 초기화 \n",
        "  error.backward()  # gradient 계산 \n",
        "  optimizer.step()"
      ],
      "metadata": {
        "id": "qhCxQ3Xwj2iJ"
      },
      "execution_count": null,
      "outputs": []
    },
    {
      "cell_type": "code",
      "source": [
        "y_pred = a * x + b \n",
        "xx = x.squeeze(1).data.numpy() \n",
        "yy = y_pred.squeeze(1).data.numpy()\n",
        "plt.figure(1)\n",
        "for point in points:\n",
        "  plt.scatter(point[0], point[1], c='b')\n",
        "plt.plot(xx, yy, c='r')\n",
        "plt.grid()"
      ],
      "metadata": {
        "colab": {
          "base_uri": "https://localhost:8080/",
          "height": 269
        },
        "id": "LGTqy4uZll7l",
        "outputId": "d23f6d5d-48d3-4149-cc4a-9c2422e24d50"
      },
      "execution_count": null,
      "outputs": [
        {
          "output_type": "display_data",
          "data": {
            "text/plain": [
              "<Figure size 432x288 with 1 Axes>"
            ],
            "image/png": "[encoded data removed]"
          },
          "metadata": {
            "needs_background": "light"
          }
        }
      ]
    },
    {
      "cell_type": "code",
      "source": [
        "for i in range(100):\n",
        "  y_pred = a * x + b\n",
        "  error = torch.mean((y - y_pred) ** 2)\n",
        "  optimizer.zero_grad()  # gradient 초기화 \n",
        "  error.backward()  # gradient 계산 \n",
        "  optimizer.step()"
      ],
      "metadata": {
        "id": "cbHjO4qolnqo"
      },
      "execution_count": null,
      "outputs": []
    },
    {
      "cell_type": "code",
      "source": [
        "y_pred = a * x + b \n",
        "xx = x.squeeze(1).data.numpy() \n",
        "yy = y_pred.squeeze(1).data.numpy()\n",
        "plt.figure(1)\n",
        "for point in points:\n",
        "  plt.scatter(point[0], point[1], c='b')\n",
        "plt.plot(xx, yy, c='r')\n",
        "plt.grid()"
      ],
      "metadata": {
        "colab": {
          "base_uri": "https://localhost:8080/",
          "height": 265
        },
        "id": "-jsBDTaclsdd",
        "outputId": "03cf83ea-187b-41b2-d5e9-4edd31398ea2"
      },
      "execution_count": null,
      "outputs": [
        {
          "output_type": "display_data",
          "data": {
            "text/plain": [
              "<Figure size 432x288 with 1 Axes>"
            ],
            "image/png": "[encoded data removed]"
          },
          "metadata": {
            "needs_background": "light"
          }
        }
      ]
    },
    {
      "cell_type": "code",
      "source": [
        "for i in range(1000):\n",
        "  y_pred = a * x + b\n",
        "  error = torch.mean((y - y_pred) ** 2)\n",
        "  optimizer.zero_grad()  # gradient 초기화 \n",
        "  error.backward()  # gradient 계산 \n",
        "  optimizer.step()"
      ],
      "metadata": {
        "id": "jNSY6RWnls-a"
      },
      "execution_count": null,
      "outputs": []
    },
    {
      "cell_type": "code",
      "source": [
        "y_pred = a * x + b \n",
        "xx = x.squeeze(1).data.numpy() \n",
        "yy = y_pred.squeeze(1).data.numpy()\n",
        "plt.figure(1)\n",
        "for point in points:\n",
        "  plt.scatter(point[0], point[1], c='b')\n",
        "plt.plot(xx, yy, c='r')\n",
        "plt.grid()"
      ],
      "metadata": {
        "colab": {
          "base_uri": "https://localhost:8080/",
          "height": 265
        },
        "id": "P9IvPNrNlz0W",
        "outputId": "e6c750d9-a29f-44aa-d3b4-af74684dcc84"
      },
      "execution_count": null,
      "outputs": [
        {
          "output_type": "display_data",
          "data": {
            "text/plain": [
              "<Figure size 432x288 with 1 Axes>"
            ],
            "image/png": "[encoded data removed]"
          },
          "metadata": {
            "needs_background": "light"
          }
        }
      ]
    },
    {
      "cell_type": "code",
      "source": [
        "print(a)"
      ],
      "metadata": {
        "colab": {
          "base_uri": "https://localhost:8080/"
        },
        "id": "GRXfWwDll04i",
        "outputId": "f9794535-4854-4e8d-9ce3-8de569bdae60"
      },
      "execution_count": null,
      "outputs": [
        {
          "output_type": "stream",
          "name": "stdout",
          "text": [
            "tensor([0.2036], requires_grad=True)\n"
          ]
        }
      ]
    },
    {
      "cell_type": "code",
      "source": [
        "y_pred = a * 3 + b"
      ],
      "metadata": {
        "id": "NM5L4Katl48y"
      },
      "execution_count": null,
      "outputs": []
    },
    {
      "cell_type": "code",
      "source": [
        "print(y_pred)"
      ],
      "metadata": {
        "colab": {
          "base_uri": "https://localhost:8080/"
        },
        "id": "lA-WJEQfmEsj",
        "outputId": "28ce5539-1d29-4f7d-cf9b-b49fc2aa2eaf"
      },
      "execution_count": null,
      "outputs": [
        {
          "output_type": "stream",
          "name": "stdout",
          "text": [
            "tensor([1.1111], grad_fn=<AddBackward0>)\n"
          ]
        }
      ]
    },
    {
      "cell_type": "code",
      "source": [],
      "metadata": {
        "id": "tGAW83YOmGPw"
      },
      "execution_count": null,
      "outputs": []
    }
  ],
  "metadata": {
    "kernelspec": {
      "display_name": "Python 3",
      "language": "python",
      "name": "python3"
    },
    "language_info": {
      "codemirror_mode": {
        "name": "ipython",
        "version": 3
      },
      "file_extension": ".py",
      "mimetype": "text/x-python",
      "name": "python",
      "nbconvert_exporter": "python",
      "pygments_lexer": "ipython3",
      "version": "3.6.8"
    },
    "colab": {
      "provenance": []
    }
  },
  "nbformat": 4,
  "nbformat_minor": 0
}